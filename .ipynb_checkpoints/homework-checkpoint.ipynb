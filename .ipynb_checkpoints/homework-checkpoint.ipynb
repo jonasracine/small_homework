{
 "cells": [
  {
   "cell_type": "markdown",
   "metadata": {
    "button": false,
    "deletable": true,
    "new_sheet": false,
    "run_control": {
     "read_only": false
    }
   },
   "source": [
    "# Homework for student project"
   ]
  },
  {
   "cell_type": "markdown",
   "metadata": {
    "button": false,
    "deletable": true,
    "new_sheet": false,
    "run_control": {
     "read_only": false
    }
   },
   "source": [
    "The goal of this small homework is for the supervisor to get familiar with the student's programming skills and resourcefulness."
   ]
  },
  {
   "cell_type": "markdown",
   "metadata": {
    "button": false,
    "deletable": true,
    "new_sheet": false,
    "run_control": {
     "read_only": false
    }
   },
   "source": [
    "## First task"
   ]
  },
  {
   "cell_type": "markdown",
   "metadata": {
    "button": false,
    "deletable": true,
    "new_sheet": false,
    "run_control": {
     "read_only": false
    }
   },
   "source": [
    "The file _data.json_ contains pairs of x, y values. The goal of this task is to produce a plot of these values. Using the necessary modules, please produce a plot. Make the color of the line red."
   ]
  },
  {
   "cell_type": "code",
   "execution_count": 1,
   "metadata": {
    "button": false,
    "collapsed": false,
    "deletable": true,
    "new_sheet": false,
    "run_control": {
     "read_only": false
    }
   },
   "outputs": [
    {
     "ename": "KeyboardInterrupt",
     "evalue": "",
     "output_type": "error",
     "traceback": [
      "\u001b[0;31m---------------------------------------------------------------------------\u001b[0m",
      "\u001b[0;31mKeyboardInterrupt\u001b[0m                         Traceback (most recent call last)",
      "\u001b[0;32m/Applications/Pineapple.app/Contents/Frameworks/Python.framework/Versions/3.5/lib/python3.5/site-packages/matplotlib/backends/backend_macosx.py\u001b[0m in \u001b[0;36mclose\u001b[0;34m(self)\u001b[0m\n\u001b[1;32m    380\u001b[0m             \u001b[0mself\u001b[0m\u001b[0;34m.\u001b[0m\u001b[0mshow\u001b[0m\u001b[0;34m(\u001b[0m\u001b[0;34m)\u001b[0m\u001b[0;34m\u001b[0m\u001b[0m\n\u001b[1;32m    381\u001b[0m \u001b[0;34m\u001b[0m\u001b[0m\n\u001b[0;32m--> 382\u001b[0;31m     \u001b[0;32mdef\u001b[0m \u001b[0mclose\u001b[0m\u001b[0;34m(\u001b[0m\u001b[0mself\u001b[0m\u001b[0;34m)\u001b[0m\u001b[0;34m:\u001b[0m\u001b[0;34m\u001b[0m\u001b[0m\n\u001b[0m\u001b[1;32m    383\u001b[0m         \u001b[0mGcf\u001b[0m\u001b[0;34m.\u001b[0m\u001b[0mdestroy\u001b[0m\u001b[0;34m(\u001b[0m\u001b[0mself\u001b[0m\u001b[0;34m.\u001b[0m\u001b[0mnum\u001b[0m\u001b[0;34m)\u001b[0m\u001b[0;34m\u001b[0m\u001b[0m\n\u001b[1;32m    384\u001b[0m \u001b[0;34m\u001b[0m\u001b[0m\n",
      "\u001b[0;31mKeyboardInterrupt\u001b[0m: "
     ]
    }
   ],
   "source": [
    "#Part 1--------------\n",
    "import matplotlib.pyplot as plt\n",
    "import json\n",
    "with open('data.json', 'r') as f:\n",
    "    data= json.load(f)\n",
    "x=[]\n",
    "y=[]\n",
    "for element in data['values']:#100 points\n",
    "    x.append(element['x'])\n",
    "    y.append(element['y'])\n",
    "plt.plot(x,y,'r-')#red line\n",
    "plt.ylabel('y')\n",
    "plt.xlabel('x')\n",
    "plt.title('data')\n",
    "plt.show()\n",
    "#---------------------\n"
   ]
  },
  {
   "cell_type": "markdown",
   "metadata": {
    "button": false,
    "deletable": true,
    "new_sheet": false,
    "run_control": {
     "read_only": false
    }
   },
   "source": [
    "## Second task"
   ]
  },
  {
   "cell_type": "markdown",
   "metadata": {
    "button": false,
    "deletable": true,
    "new_sheet": false,
    "run_control": {
     "read_only": false
    }
   },
   "source": [
    "The values plotted in the previous exercise were taken from a well known trigonometric function. Using Numpy, produce these values and plot them in red. In blue, plot the values of another trigonometric function on the same interval. Please use the same interval and number of steps as in the json file."
   ]
  },
  {
   "cell_type": "code",
   "execution_count": null,
   "metadata": {
    "button": false,
    "collapsed": true,
    "deletable": true,
    "new_sheet": false,
    "run_control": {
     "read_only": false
    }
   },
   "outputs": [],
   "source": [
    "import numpy as np\n",
    "import matplotlib.pyplot as plt\n",
    "pi = 3.141592653589793\n",
    "\n",
    "x=np.linspace(-pi, pi, 100)\n",
    "\n",
    "p1 =plt.plot(x,np.sin(x),'r-')#red line\n",
    "p2 =plt.plot(x,np.cos(x),'b-')\n",
    "plt.legend((p1[0], p2[0]), ('sin(x)', 'cos(x)'))\n",
    "plt.xlabel('x')\n",
    "plt.show()\n"
   ]
  },
  {
   "cell_type": "markdown",
   "metadata": {
    "button": false,
    "deletable": true,
    "new_sheet": false,
    "run_control": {
     "read_only": false
    }
   },
   "source": [
    "## Third task"
   ]
  },
  {
   "cell_type": "markdown",
   "metadata": {
    "button": false,
    "deletable": true,
    "new_sheet": false,
    "run_control": {
     "read_only": false
    }
   },
   "source": [
    "Please write a class that models a graph with its vertices and edges. \n",
    "\n",
    "The user should be able to initiate a graph with a given number of vertices, and then either add edges one by one or generate random edges on the vertex set.\n",
    "\n",
    "The user should be able to get a list of the vertices with their degrees."
   ]
  },
  {
   "cell_type": "code",
   "execution_count": null,
   "metadata": {
    "button": false,
    "collapsed": true,
    "deletable": true,
    "new_sheet": false,
    "run_control": {
     "read_only": false
    }
   },
   "outputs": [],
   "source": [
    "import random\n",
    "\n",
    "class Vertex:\n",
    "    def __init__(self,name,degree=0):\n",
    "        self.name = name\n",
    "        self.degree = degree\n",
    "    def getDegree(self):\n",
    "        return self.degree\n",
    "    def setDegree(self,deg):\n",
    "        self.degree = deg\n",
    "    def getName(self):\n",
    "        return self.name\n",
    "\n",
    "class Edge:\n",
    "    def __init__(self,vertex1,vertex2):\n",
    "        self.vertex1 = Vertex(vertex1)\n",
    "        self.vertex2 = Vertex(vertex2)\n",
    "\n",
    "class Graph:\n",
    "    def __init__(self,size=None):#constructor\n",
    "        if size < 0:\n",
    "            raise Exception('Invalid size for graph')\n",
    "        self.vertices = {}\n",
    "        if not self.vertices:\n",
    "            for i in range(size):\n",
    "                self.addVertex(str(i+1))\n",
    "        self.edges = []\n",
    "\n",
    "        print(\"created graph \",end='')\n",
    "        if self.vertices:\n",
    "            print(\"with vertices :\")\n",
    "            print(\"{\",end='')\n",
    "            i=0\n",
    "            for key, value in self.vertices.items():\n",
    "                i+=1\n",
    "                if i is not len(self.vertices):\n",
    "                    print(key,\",\",end='')\n",
    "                else:\n",
    "                    print(key,end='')\n",
    "                    print(\"}\")\n",
    "        else:\n",
    "            print(\"\\n\")#end of constructor\n",
    "\n",
    "    def verticesDoNotContain(self, vname):\n",
    "        if vname in self.vertices:\n",
    "            return False\n",
    "        return True\n",
    "\n",
    "    def addVertex(self,vname):\n",
    "        if self.verticesDoNotContain(vname):\n",
    "            new_vertex = Vertex(vname)\n",
    "            self.vertices[vname]=new_vertex\n",
    "            print(\"added vertex \",vname)\n",
    "        else:\n",
    "            raise Exception(\"vertex index must be unique!\")\n",
    "\n",
    "    def addMultipleVertices(self,names):\n",
    "        for vname in names:\n",
    "            self.addVertex(vname)\n",
    "\n",
    "    def addThisManyVertices(self,number):#TODO For another time: there could be V={1,3,4} and len==3 but 4 already exists\n",
    "        for i in range(number):\n",
    "            self.addVertex(str(len(self.vertices)+1))\n",
    "\n",
    "    def edgesDoNotContain(self,vname1,vname2):\n",
    "        for edge in self.edges:\n",
    "            if edge.vertex1.name == vname1 and edge.vertex2.name == vname2:\n",
    "                return False\n",
    "            if edge.vertex1.name == vname2 and edge.vertex2.name == vname1:\n",
    "                return False\n",
    "        return True\n",
    "\n",
    "    def addEdge(self,vname1,vname2):\n",
    "        if vname1 not in list(self.vertices.keys()) or vname2 not in list(self.vertices.keys()):\n",
    "            raise ValueError('cannot add an edge between non existent vertices')\n",
    "        if self.edgesDoNotContain(vname1,vname2):\n",
    "            edge = Edge(vname1,vname2)\n",
    "            self.edges.append(edge)\n",
    "            self.vertices[vname1].setDegree(self.vertices[vname1].getDegree()+1)\n",
    "            self.vertices[vname2].setDegree(self.vertices[vname2].getDegree()+1)\n",
    "            #self.edges[-1].vertex1.setDegree(self.edges[-1].vertex1.getDegree()+1)\n",
    "            #self.edges[-1].vertex2.setDegree(self.edges[-1].vertex1.getDegree()+1)\n",
    "            print(\"added edge [\", edge.vertex1.name,\",\",edge.vertex2.name,\"]\")\n",
    "        else:\n",
    "            print(\"the edge \",vname1,vname2,\" already exists\")\n",
    "\n",
    "    def addEdgesRandomly(self):\n",
    "        print(\"Adding edges randomly\")\n",
    "        temp_list = list(self.vertices.keys())\n",
    "        for key1, value1 in self.vertices.items():\n",
    "            for key2 in temp_list:\n",
    "                toAddOrNotToAdd = bool(random.getrandbits(1))\n",
    "                if toAddOrNotToAdd == False:\n",
    "                    if value1.name is not self.vertices[key2].name and self.edgesDoNotContain(key1,key2):\n",
    "                        print(\"decided not to add the [\",key1,\",\",key2,\"] edge\")\n",
    "                if toAddOrNotToAdd:\n",
    "                    if value1.name is not self.vertices[key2].name and self.edgesDoNotContain(key1,key2):\n",
    "                        self.addEdge(key1,key2)\n",
    "            temp_list.remove(key1)\n",
    "    def displayDegreeSequence(self):\n",
    "        print(\"degree sequence:\")\n",
    "        print(\"Vertex  |  degree\")\n",
    "        for key, value in self.vertices.items():\n",
    "            print(value.name,\"         \",end='')\n",
    "            #print('%5s' % element.name,end='')\n",
    "            print(self.vertices[key].getDegree())\n",
    "\n",
    "g = Graph(2)\n",
    "g.addVertex('3')\n",
    "g.addEdge('2','3')\n",
    "g.addThisManyVertices(2)\n",
    "g.addEdgesRandomly()\n",
    "g.displayDegreeSequence()\n",
    "g.addThisManyVertices(1)\n",
    "g.addEdgesRandomly()\n",
    "g.displayDegreeSequence()\n"
   ]
  },
  {
   "cell_type": "code",
   "execution_count": null,
   "metadata": {
    "button": false,
    "collapsed": true,
    "deletable": true,
    "new_sheet": false,
    "run_control": {
     "read_only": false
    }
   },
   "outputs": [],
   "source": []
  }
 ],
 "metadata": {
  "kernelspec": {
   "display_name": "Python 3",
   "language": "python",
   "name": "python3"
  },
  "language_info": {
   "codemirror_mode": {
    "name": "ipython",
    "version": 3
   },
   "file_extension": ".py",
   "mimetype": "text/x-python",
   "name": "python",
   "nbconvert_exporter": "python",
   "pygments_lexer": "ipython3",
   "version": "3.5.0"
  }
 },
 "nbformat": 4,
 "nbformat_minor": 2
}
