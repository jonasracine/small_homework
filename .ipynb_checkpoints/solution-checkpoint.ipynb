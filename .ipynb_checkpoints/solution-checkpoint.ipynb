{
 "cells": [
  {
   "cell_type": "code",
   "execution_count": 1,
   "metadata": {
    "button": false,
    "collapsed": true,
    "deletable": true,
    "new_sheet": false,
    "run_control": {
     "read_only": false
    }
   },
   "outputs": [],
   "source": [
    "#Part 1--------------\n",
    "import matplotlib.pyplot as plt\n",
    "import json\n",
    "with open('data.json', 'r') as f:\n",
    "    data= json.load(f)\n",
    "x=[]\n",
    "y=[]\n",
    "for element in data['values']:#100 points\n",
    "    x.append(element['x'])\n",
    "    y.append(element['y'])\n",
    "plt.plot(x,y,'r-')#red line\n",
    "plt.ylabel('y')\n",
    "plt.xlabel('x')\n",
    "plt.title('data')\n",
    "plt.show()\n",
    "#---------------------\n"
   ]
  },
  {
   "cell_type": "code",
   "execution_count": null,
   "metadata": {
    "button": false,
    "collapsed": true,
    "deletable": true,
    "new_sheet": false,
    "run_control": {
     "read_only": false
    }
   },
   "outputs": [],
   "source": []
  }
 ],
 "metadata": {
  "anaconda-cloud": {},
  "kernelspec": {
   "display_name": "Python 3",
   "language": "python",
   "name": "python3"
  },
  "language_info": {
   "codemirror_mode": {
    "name": "ipython",
    "version": 3
   },
   "file_extension": ".py",
   "mimetype": "text/x-python",
   "name": "python",
   "nbconvert_exporter": "python",
   "pygments_lexer": "ipython3",
   "version": "3.5.0"
  }
 },
 "nbformat": 4,
 "nbformat_minor": 1
}
