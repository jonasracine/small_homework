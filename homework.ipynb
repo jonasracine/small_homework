{
 "cells": [
  {
   "cell_type": "markdown",
   "metadata": {},
   "source": [
    "# Homework for student project"
   ]
  },
  {
   "cell_type": "markdown",
   "metadata": {},
   "source": [
    "The goal of this small homework is for the supervisor to get familiar with the student's programming skills and resourcefulness."
   ]
  },
  {
   "cell_type": "markdown",
   "metadata": {},
   "source": [
    "## First task"
   ]
  },
  {
   "cell_type": "markdown",
   "metadata": {},
   "source": [
    "The file _data.json_ contains pairs of x, y values. The goal of this task is to produce a plot of these values. Using the necessary modules, please produce a plot. Make the color of the line red."
   ]
  },
  {
   "cell_type": "code",
   "execution_count": null,
   "metadata": {},
   "outputs": [],
   "source": []
  },
  {
   "cell_type": "markdown",
   "metadata": {},
   "source": [
    "## Second task"
   ]
  },
  {
   "cell_type": "markdown",
   "metadata": {},
   "source": [
    "The values plotted in the previous exercise were taken from a well known trigonometric function. Using Numpy, produce these values and plot them in red. In blue, plot the values of another trigonometric function on the same interval. Please use the same interval and number of steps as in the json file."
   ]
  },
  {
   "cell_type": "code",
   "execution_count": null,
   "metadata": {},
   "outputs": [],
   "source": []
  },
  {
   "cell_type": "markdown",
   "metadata": {},
   "source": [
    "## Third task"
   ]
  },
  {
   "cell_type": "markdown",
   "metadata": {},
   "source": [
    "Please write a class that models a graph with its vertices and edges. \n",
    "\n",
    "The user should be able to initiate a graph with a given number of vertices, and then either add edges one by one or generate random edges on the vertex set.\n",
    "\n",
    "The user should be able to get a list of the vertices with their degrees."
   ]
  },
  {
   "cell_type": "code",
   "execution_count": null,
   "metadata": {},
   "outputs": [],
   "source": []
  }
 ],
 "metadata": {
  "kernelspec": {
   "display_name": "Python 3",
   "language": "python",
   "name": "python3"
  },
  "language_info": {
   "codemirror_mode": {
    "name": "ipython",
    "version": 3
   },
   "file_extension": ".py",
   "mimetype": "text/x-python",
   "name": "python",
   "nbconvert_exporter": "python",
   "pygments_lexer": "ipython3",
   "version": "3.7.3"
  }
 },
 "nbformat": 4,
 "nbformat_minor": 2
}
